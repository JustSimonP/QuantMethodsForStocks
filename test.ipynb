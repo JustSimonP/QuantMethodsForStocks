{
 "cells": [
  {
   "cell_type": "code",
   "execution_count": 1,
   "metadata": {},
   "outputs": [
    {
     "output_type": "stream",
     "name": "stdout",
     "text": "JAPIERDOLE\n"
    }
   ],
   "source": [
    "print('JAPIERDOLE')"
   ]
  },
  {
   "cell_type": "code",
   "execution_count": 6,
   "metadata": {},
   "outputs": [
    {
     "output_type": "stream",
     "name": "stdout",
     "text": "crim    zn  indus  chas    nox     rm   age     dis  rad  tax  ptratio  \\\n0  0.00632  18.0   2.31     0  0.538  6.575  65.2  4.0900    1  296     15.3   \n1  0.02731   0.0   7.07     0  0.469  6.421  78.9  4.9671    2  242     17.8   \n2  0.02729   0.0   7.07     0  0.469  7.185  61.1  4.9671    2  242     17.8   \n3  0.03237   0.0   2.18     0  0.458  6.998  45.8  6.0622    3  222     18.7   \n4  0.06905   0.0   2.18     0  0.458  7.147  54.2  6.0622    3  222     18.7   \n\n        b  lstat  medv  \n0  396.90   4.98  24.0  \n1  396.90   9.14  21.6  \n2  392.83   4.03  34.7  \n3  394.63   2.94  33.4  \n4  396.90   5.33  36.2  \n[ 3.64594884e+01 -1.08011358e-01  4.64204584e-02  2.05586264e-02\n  2.68673382e+00 -1.77666112e+01  3.80986521e+00  6.92224640e-04\n -1.47556685e+00  3.06049479e-01 -1.23345939e-02 -9.52747232e-01\n  9.31168327e-03 -5.24758378e-01]\n"
    },
    {
     "output_type": "execute_result",
     "data": {
      "text/plain": "     Actual  Predicted\n0      24.0  30.003843\n1      21.6  25.025562\n2      34.7  30.567597\n3      33.4  28.607036\n4      36.2  27.943524\n..      ...        ...\n501    22.4  23.533341\n502    20.6  22.375719\n503    23.9  27.627426\n504    22.0  26.127967\n505    11.9  22.344212\n\n[506 rows x 2 columns]",
      "text/html": "<div>\n<style scoped>\n    .dataframe tbody tr th:only-of-type {\n        vertical-align: middle;\n    }\n\n    .dataframe tbody tr th {\n        vertical-align: top;\n    }\n\n    .dataframe thead th {\n        text-align: right;\n    }\n</style>\n<table border=\"1\" class=\"dataframe\">\n  <thead>\n    <tr style=\"text-align: right;\">\n      <th></th>\n      <th>Actual</th>\n      <th>Predicted</th>\n    </tr>\n  </thead>\n  <tbody>\n    <tr>\n      <th>0</th>\n      <td>24.0</td>\n      <td>30.003843</td>\n    </tr>\n    <tr>\n      <th>1</th>\n      <td>21.6</td>\n      <td>25.025562</td>\n    </tr>\n    <tr>\n      <th>2</th>\n      <td>34.7</td>\n      <td>30.567597</td>\n    </tr>\n    <tr>\n      <th>3</th>\n      <td>33.4</td>\n      <td>28.607036</td>\n    </tr>\n    <tr>\n      <th>4</th>\n      <td>36.2</td>\n      <td>27.943524</td>\n    </tr>\n    <tr>\n      <th>...</th>\n      <td>...</td>\n      <td>...</td>\n    </tr>\n    <tr>\n      <th>501</th>\n      <td>22.4</td>\n      <td>23.533341</td>\n    </tr>\n    <tr>\n      <th>502</th>\n      <td>20.6</td>\n      <td>22.375719</td>\n    </tr>\n    <tr>\n      <th>503</th>\n      <td>23.9</td>\n      <td>27.627426</td>\n    </tr>\n    <tr>\n      <th>504</th>\n      <td>22.0</td>\n      <td>26.127967</td>\n    </tr>\n    <tr>\n      <th>505</th>\n      <td>11.9</td>\n      <td>22.344212</td>\n    </tr>\n  </tbody>\n</table>\n<p>506 rows × 2 columns</p>\n</div>"
     },
     "metadata": {},
     "execution_count": 6
    }
   ],
   "source": [
    "import pandas as pd\n",
    "import numpy as np\n",
    "import warnings \n",
    "warnings.filterwarnings('ignore')\n",
    "\n",
    "bostonHousingDataset = pd.read_csv('https://raw.githubusercontent.com/selva86/datasets/master/BostonHousing.csv')\n",
    "print(bostonHousingDataset.head())\n",
    "\n",
    "\n",
    "\n",
    "class OrdinaryLeastSquares(object):\n",
    "    def __init__(self):\n",
    "        self.coefficients = []\n",
    "        \n",
    "    def _reshape_x(self, X):\n",
    "        return X.reshape(-1,1)\n",
    "\n",
    "#generate the vector and concatenate it\n",
    "    def _concateate_ones(self, X):\n",
    "        ones = np.ones(shape=X.shape[0]).reshape(-1,1)\n",
    "        return np.concatenate((ones,X),1)\n",
    "    \n",
    "    def fit(self, X, y):\n",
    "        if len(X.shape) == 1: X= self._reshape_x(X)\n",
    "        X = self._concateate_ones(X)\n",
    "        self.coefficients = np.linalg.inv(X.transpose().dot(X)).dot(X.transpose()).dot(y)\n",
    "        \n",
    "    def predict(self,entry):\n",
    "        b0 = self.coefficients[0]\n",
    "        other_betas = self.coefficients[1:]\n",
    "        prediction = b0\n",
    "        for xi, bi in zip(entry, other_betas): prediction += (bi * xi)\n",
    "        return prediction\n",
    "    \n",
    "    \n",
    "    \n",
    "    \n",
    "    \n",
    "    \n",
    "X = bostonHousingDataset.drop('medv', axis=1).values\n",
    "y = bostonHousingDataset['medv'].values\n",
    "model  = OrdinaryLeastSquares()\n",
    "model.fit(X,y)\n",
    "print(model.coefficients)\n",
    "\n",
    "#Prediction for first row of X\n",
    "model.predict(X[0])\n",
    "\n",
    "#Prediction for all rows\n",
    "y_preds = []\n",
    "\n",
    "for row in X: y_preds.append(model.predict(row))\n",
    "\n",
    "pd.DataFrame({\n",
    "    'Actual': y,\n",
    "    'Predicted': np.ravel(y_preds)\n",
    "    })\n",
    "      \n"
   ]
  },
  {
   "cell_type": "code",
   "execution_count": null,
   "metadata": {},
   "outputs": [],
   "source": []
  }
 ],
 "metadata": {
  "language_info": {
   "codemirror_mode": {
    "name": "ipython",
    "version": 3
   },
   "file_extension": ".py",
   "mimetype": "text/x-python",
   "name": "python",
   "nbconvert_exporter": "python",
   "pygments_lexer": "ipython3",
   "version": 3
  },
  "orig_nbformat": 2,
  "kernelspec": {
   "name": "python_defaultSpec_1598179272988",
   "display_name": "Python 3.7.6 64-bit (conda)"
  }
 },
 "nbformat": 4,
 "nbformat_minor": 2
}